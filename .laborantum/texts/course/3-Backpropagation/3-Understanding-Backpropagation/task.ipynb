{
    "cells": [
        {
            "cell_type": "code",
            "execution_count": 2,
            "metadata": {},
            "outputs": [],
            "source": [
                "import json_tricks\n",
                "answer = {}\n",
                "\n",
                "\n",
                "inputs = json_tricks.load(open('inputs.json', 'r'))"
            ]
        },
        {
            "cell_type": "markdown",
            "metadata": {},
            "source": [
                "# Backpropagaion Practice"
            ]
        },
        {
            "cell_type": "markdown",
            "metadata": {},
            "source": [
                "You are given a graph of operations:"
            ]
        },
        {
            "cell_type": "markdown",
            "metadata": {},
            "source": [
                "<img src=\"imgs/task_2_4_graph_02.png\" width=\"400\" height=\"300\" />"
            ]
        },
        {
            "cell_type": "markdown",
            "metadata": {},
            "source": [
                "# Task 1\n",
                "\n",
                "Write function that calculates value of this graph for any given input vector `x` and set of coefficients $b_1, b_2, c_1, c_2$ packed as vector of weights `w`.\n",
                "In this function also return all the $z$ values."
            ]
        },
        {
            "cell_type": "code",
            "execution_count": 5,
            "metadata": {},
            "outputs": [],
            "source": [
                "import numpy as np\n",
                "import math\n",
                "\n",
                "\n",
                "def tanh(x):\n",
                "    return (math.exp(x) - math.exp(-x)) / (math.exp(x) + math.exp(-x))\n",
                "\n",
                "def sigmoid(x):\n",
                "    return 1 / (1 + math.exp(-x))\n",
                "\n",
                "def graph_value(x, w):\n",
                "    z1 = x[0] + w[0]\n",
                "    z3 = sigmoid(z1)\n",
                "\n",
                "    z2 = x[1] + w[1]\n",
                "    z4 = sigmoid(z2)\n",
                "    z5 = tanh(z2)\n",
                "    z6 = z5 * w[3]\n",
                "\n",
                "    z7 = z1 * z4\n",
                "    z8 = z7 * w[2]\n",
                "\n",
                "    z9 = z3 * z6\n",
                "    \n",
                "    y = z8 + z9\n",
                "\n",
                "    z = [z1,z2,z3,z4,z5,z6,z7,z8,z9]\n",
                "    return y, z"
            ]
        },
        {
            "cell_type": "code",
            "execution_count": 6,
            "metadata": {},
            "outputs": [],
            "source": [
                "answer['graph_value'] = [graph_value(**input) for input in inputs]"
            ]
        },
        {
            "cell_type": "markdown",
            "metadata": {},
            "source": [
                "# Task 2\n",
                "\n",
                "In this graph, find all derivative of all the values over $z$ or $x$ or $w$.\n",
                "\n",
                "Write the result in form of dictionary, for example, $\\partial_{z_9} y$:\n",
                "\n",
                "```\n",
                "['dy_dz9'] = 1\n",
                "```"
            ]
        },
        {
            "cell_type": "code",
            "execution_count": 13,
            "metadata": {},
            "outputs": [],
            "source": [
                "def sigmoid_deriv(x):\n",
                "    s = sigmoid(x)\n",
                "    return s * (1 - s)\n",
                "\n",
                "def tanh_deriv(x):\n",
                "    t = tanh(x)\n",
                "    return 1 - t**2\n",
                "\n",
                "def graph_derivatives(x, w):\n",
                "    y,z = graph_value(x,w)\n",
                "\n",
                "\n",
                "    z1,z2,z3,z4,z5,z6,z7,z8,z9 = z\n",
                "\n",
                "    dy_dz9 = 1\n",
                "    dy_dz8 = 1 \n",
                "\n",
                "    dy_dz7 = dy_dz8 + w[2]\n",
                "\n",
                "    dy_dz6 = dy_dz9 * sigmoid(z3)\n",
                "\n",
                "    dy_dz5 = dy_dz6 * w[3]\n",
                "\n",
                "    dy_dz4 = dy_dz7 * z1\n",
                "\n",
                "    dy_dz3 = dy_dz9 * z6\n",
                "\n",
                "    dy_dz2 = dy_dz4 * sigmoid_deriv(z2) + dy_dz5 * tanh_deriv(z2)\n",
                "\n",
                "    dy_dz1 = dy_dz7 * z4 + dy_dz3 * sigmoid_deriv(z1)\n",
                "\n",
                "    dy_dc2 = dy_dz6 * z5\n",
                "\n",
                "    dy_dc1 = dy_dz8 * z7\n",
                "\n",
                "    dy_db2 = dy_dz2 * 1\n",
                "\n",
                "    dy_db1 = dy_dz1 * 1\n",
                "\n",
                "    dy_dx1 = dy_dz1 * 1\n",
                "\n",
                "    dy_dx2 = dy_dz1 * 1\n",
                "\n",
                "\n",
                "    return {\n",
                "        \"dy_dz1\": dy_dz1,\n",
                "        \"dy_dz2\": dy_dz2,\n",
                "        \"dy_dz3\": dy_dz3,\n",
                "        \"dy_dz4\": dy_dz4,\n",
                "        \"dy_dz5\": dy_dz5,\n",
                "        \"dy_dz6\": dy_dz6,\n",
                "        \"dy_dz7\": dy_dz7,\n",
                "        \"dy_dz8\": dy_dz8,\n",
                "        \"dy_dz9\": dy_dz9,\n",
                "        \"dy_db1\": dy_db1,\n",
                "        \"dy_db2\": dy_db2,\n",
                "        \"dy_dc1\": dy_dc1,\n",
                "        \"dy_dc2\": dy_dc2,\n",
                "        \"dy_dx1\": dy_dx1,\n",
                "        \"dy_dx2\": dy_dx2\n",
                "    }"
            ]
        },
        {
            "cell_type": "code",
            "execution_count": 14,
            "metadata": {},
            "outputs": [],
            "source": [
                "answer['graph_derivatives'] = [graph_derivatives(**input) for input in inputs]"
            ]
        },
        {
            "cell_type": "markdown",
            "metadata": {},
            "source": [
                "# Task 3\n",
                "\n",
                "Using the values of the derivatives, calculated above:\n",
                "- extract a dictionary of values that are needed to calculate $\\partial_{c_1} y$\n",
                "- calculate that derivative"
            ]
        },
        {
            "cell_type": "code",
            "execution_count": 20,
            "metadata": {},
            "outputs": [],
            "source": [
                "def dy_dc1(x, w):\n",
                "    selected_derivs = {}\n",
                "    dy_dc1 = 0\n",
                "\n",
                "    ## YOUR CODE HERE ##\n",
                "\n",
                "    return selected_derivs, dy_dc1"
            ]
        },
        {
            "cell_type": "code",
            "execution_count": 21,
            "metadata": {},
            "outputs": [],
            "source": [
                "answer['dy_dc1'] = [dy_dc1(**input) for input in inputs]"
            ]
        },
        {
            "cell_type": "markdown",
            "metadata": {},
            "source": [
                "# Task 4\n",
                "Using the values of the derivatives, calculated above:\n",
                "- extract a dictionary of values that are needed to calculate $\\partial_{c_2} y$\n",
                "- calculate that derivative"
            ]
        },
        {
            "cell_type": "code",
            "execution_count": 22,
            "metadata": {},
            "outputs": [],
            "source": [
                "def dy_dc2(x, w):\n",
                "    selected_derivs = {}\n",
                "    dy_dc2 = 0\n",
                "\n",
                "    ## YOUR CODE HERE ##\n",
                "\n",
                "    return selected_derivs, dy_dc2"
            ]
        },
        {
            "cell_type": "code",
            "execution_count": 23,
            "metadata": {},
            "outputs": [],
            "source": [
                "answer['dy_dc2'] = [dy_dc2(**input) for input in inputs]"
            ]
        },
        {
            "cell_type": "markdown",
            "metadata": {},
            "source": [
                "# Task 5\n",
                "Using the values of the derivatives, calculated above:\n",
                "- extract a dictionary of values that are needed to calculate $\\partial_{b_1} y$\n",
                "- calculate that derivative"
            ]
        },
        {
            "cell_type": "code",
            "execution_count": 24,
            "metadata": {},
            "outputs": [],
            "source": [
                "def dy_db1(x, w):\n",
                "    selected_derivs = {}\n",
                "    dy_db1 = 0\n",
                "\n",
                "    ## YOUR CODE HERE ##\n",
                "\n",
                "    return selected_derivs, dy_db1"
            ]
        },
        {
            "cell_type": "code",
            "execution_count": 25,
            "metadata": {},
            "outputs": [],
            "source": [
                "answer['dy_db1'] = [dy_db1(**input) for input in inputs]"
            ]
        },
        {
            "cell_type": "markdown",
            "metadata": {},
            "source": [
                "# Task 6\n",
                "Using the values of the derivatives, calculated above:\n",
                "- extract a dictionary of values that are needed to calculate $\\partial_{b_2} y$\n",
                "- calculate that derivative"
            ]
        },
        {
            "cell_type": "code",
            "execution_count": 26,
            "metadata": {},
            "outputs": [],
            "source": [
                "def dy_db2(x, w):\n",
                "    selected_derivs = {}\n",
                "    dy_db2 = 0\n",
                "\n",
                "    ## YOUR CODE HERE ##\n",
                "\n",
                "    return selected_derivs, dy_db2"
            ]
        },
        {
            "cell_type": "code",
            "execution_count": 27,
            "metadata": {},
            "outputs": [],
            "source": [
                "answer['dy_db2'] = [dy_db2(**input) for input in inputs]"
            ]
        },
        {
            "cell_type": "code",
            "execution_count": 28,
            "metadata": {},
            "outputs": [],
            "source": [
                "json_tricks.dump(answer, '.answer.json')"
            ]
        }
    ],
    "metadata": {
        "kernelspec": {
            "display_name": "Python 3",
            "language": "python",
            "name": "python3"
        },
        "language_info": {
            "codemirror_mode": {
                "name": "ipython",
                "version": 3
            },
            "file_extension": ".py",
            "mimetype": "text/x-python",
            "name": "python",
            "nbconvert_exporter": "python",
            "pygments_lexer": "ipython3",
            "version": "3.11.12"
        }
    },
    "nbformat": 4,
    "nbformat_minor": 2
}
